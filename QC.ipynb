{
 "cells": [
  {
   "cell_type": "markdown",
   "metadata": {},
   "source": [
    "## **quality filtering**\n",
    "\n",
    "#### **Usage:** fastq-mcf \\[options\\] adapters.fa reads.fq mates1.fq ... \n"
   ]
  },
  {
   "cell_type": "code",
   "execution_count": null,
   "metadata": {},
   "outputs": [],
   "source": [
    "DIR=\"/home/mmoser/Tools/ExpressionAnalysis-ea-utils-bd148d4/clipper\""
   ]
  },
  {
   "cell_type": "code",
   "execution_count": 9,
   "metadata": {},
   "outputs": [
    {
     "name": "stderr",
     "output_type": "stream",
     "text": [
      "Error opening adapter file 'adapters.fa': No such file or directory\n"
     ]
    }
   ],
   "source": [
    "%%bash\n",
    "$DIR/fastq-mcf -q 30 -l 50 adapters.fa  RIL1.fq -o RIL1.qc.fq"
   ]
  }
 ],
 "metadata": {
  "kernelspec": {
   "display_name": "Python 3",
   "language": "python",
   "name": "python3"
  },
  "language_info": {
   "codemirror_mode": {
    "name": "ipython",
    "version": 3
   },
   "file_extension": ".py",
   "mimetype": "text/x-python",
   "name": "python",
   "nbconvert_exporter": "python",
   "pygments_lexer": "ipython3",
   "version": "3.6.4"
  }
 },
 "nbformat": 4,
 "nbformat_minor": 2
}
