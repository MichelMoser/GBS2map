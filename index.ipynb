# **GBS data processing workflow**

**Michel Moser, PhD, Institute of Plant Sciences**

This notebook contains step-by-step explanaitions from Illumina read-processing to marker creation to be further used in genetic map construction. 

#### **Dependecies**

>  [**fastq-mcf**](http://expressionanalysis.github.io/ea-utils/)  - skewing detection and quality filtering of Illumina reads    

>  [**bowtie2**](http://bowtie-bio.sourceforge.net/bowtie2/index.shtml)   - fast and sensitive short-read aligner    

> [**samtools**](https://github.com/samtools/samtools/releases) - manipulating tool for next-generation sequencing data 

> [**LepMAP3**](https://sourceforge.net/projects/lep-map3/) - linkage map construction suite



### **Acknowledgements**

This collection of tools are not my own work and should be cited respectively when used.  
