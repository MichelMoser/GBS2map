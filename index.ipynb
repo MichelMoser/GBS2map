{
 "cells": [
  {
   "cell_type": "markdown",
   "metadata": {},
   "source": [
    "# **GBS data processing workflow**\n",
    "\n",
    "**Michel Moser, PhD, Institute of Plant Sciences**\n",
    "\n",
    "This notebook contains step-by-step explanaitions from Illumina read-processing to marker creation to be further used in genetic map construction. \n",
    "\n",
    "#### **Dependecies**\n",
    "\n",
    ">  [**fastq-mcf**](http://expressionanalysis.github.io/ea-utils/)  - skewing detection and quality filtering of Illumina reads    \n",
    "\n",
    ">  [**bowtie2**](http://bowtie-bio.sourceforge.net/bowtie2/index.shtml)   - fast and sensitive short-read aligner    \n",
    "\n",
    "> [**samtools**](https://github.com/samtools/samtools/releases) - manipulating tool for next-generation sequencing data \n",
    "\n",
    "> [**LepMAP3**](https://sourceforge.net/projects/lep-map3/) - linkage map construction suite\n",
    "\n",
    "\n",
    "\n",
    "### **Acknowledgements**\n",
    "\n",
    "This collection of tools are not my own work and should be cited respectively when used.  "
   ]
  },
  {
   "cell_type": "markdown",
   "metadata": {},
   "source": []
  }
 ],
 "metadata": {
  "kernelspec": {
   "display_name": "Python 3",
   "language": "python",
   "name": "python3"
  },
  "language_info": {
   "codemirror_mode": {
    "name": "ipython",
    "version": 3
   },
   "file_extension": ".py",
   "mimetype": "text/x-python",
   "name": "python",
   "nbconvert_exporter": "python",
   "pygments_lexer": "ipython3",
   "version": "3.6.4"
  }
 },
 "nbformat": 4,
 "nbformat_minor": 2
}
